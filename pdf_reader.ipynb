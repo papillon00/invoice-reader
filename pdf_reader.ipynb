{
 "cells": [
  {
   "cell_type": "markdown",
   "metadata": {},
   "source": [
    "# PDF invoice scraper\n",
    "1. review all the pdf invoices in selected folder \n",
    "2. copy key information: date, customer, taxes (GST, PST), grandtotal & invoice #\n",
    "3. save all the information to a tuple list and convert it to Dataframe\n",
    "4. export to csv\n"
   ]
  },
  {
   "cell_type": "code",
   "execution_count": 83,
   "metadata": {},
   "outputs": [],
   "source": [
    "import numpy as np\n",
    "import pandas as pd\n",
    "import glob ##merge multiple csv files into one dataframe    \n",
    "import re #re.search('Toter.+' , variable)\n",
    "import os\n",
    "import pdfplumber\n",
    "import re\n",
    "from collections import namedtuple\n",
    "import tkinter as tk\n",
    "from tkinter import filedialog\n"
   ]
  },
  {
   "cell_type": "code",
   "execution_count": 465,
   "metadata": {},
   "outputs": [],
   "source": [
    "def export_folder_path():\n",
    "    \"\"\"Prompt the user to select a folder to save the export\"\"\"\n",
    "    root = tk.Tk()\n",
    "    root.withdraw()  # Hide the main window\n",
    "\n",
    "    folder_path = filedialog.askdirectory(\n",
    "        title=\"Select a Folder to export the data\"\n",
    "    )\n",
    "\n",
    "    root.destroy()  # Close the Tkinter window\n",
    "\n",
    "    os.chdir(folder_path)\n",
    "    os.getcwd()\n",
    "    print(\"The file has been exported to {}\".format(os.getcwd()))"
   ]
  },
  {
   "cell_type": "code",
   "execution_count": 319,
   "metadata": {},
   "outputs": [],
   "source": [
    "\n",
    "def get_folder_path():\n",
    "    \"\"\"Prompts the user to select a folder and returns its path.\"\"\"\n",
    "\n",
    "    root = tk.Tk()\n",
    "    root.withdraw()  # Hide the main window\n",
    "\n",
    "    folder_path = filedialog.askdirectory(\n",
    "        title=\"Select a Folder\"\n",
    "    )\n",
    "\n",
    "    root.destroy()  # Close the Tkinter window\n",
    "\n",
    "    os.chdir(folder_path)\n",
    "    os.getcwd()\n",
    "    extension = 'pdf'\n",
    "    import_list = [ i for i in glob.glob('*.{}'.format(extension), recursive=True)]\n",
    "    print(f\"There are {len(import_list)} invoices in {folder_path}\")\n",
    "    return import_list\n",
    "    \n"
   ]
  },
  {
   "cell_type": "code",
   "execution_count": null,
   "metadata": {},
   "outputs": [
    {
     "ename": "",
     "evalue": "",
     "output_type": "error",
     "traceback": [
      "\u001b[1;31mRunning cells with '/opt/homebrew/bin/python3.12' requires the ipykernel package.\n",
      "\u001b[1;31mRun the following command to install 'ipykernel' into the Python environment. \n",
      "\u001b[1;31mCommand: '/opt/homebrew/bin/python3.12 -m pip install ipykernel -U --user --force-reinstall'"
     ]
    }
   ],
   "source": [
    "def main(import_list):\n",
    "    \n",
    "    # Keyword input (instruct user to enter only one colon)\n",
    "    keyword1 = input(\"Enter the keyword before the invoice number (no colon): \")\n",
    "    num_chars = int(input(\"Enter the number of characters in the invoice number: \"))\n",
    "\n",
    "    # Dynamically build the regular expression pattern (without extra backslashes)\n",
    "    pattern = r\"{keyword1}:\\s+?(\\w{{{num_chars}}})\".format(keyword1=keyword1, num_chars=num_chars)\n",
    "    inv_line_re = re.compile(pattern)\n",
    "\n",
    "    # Keyword input for date\n",
    "    keyword2 = input(\"Enter the keyword before the invoice Date (no colon) \")\n",
    "    pattern2 = rf\"{keyword2}:\\s+?(?P<date>\\w+\\s+\\d{{2}},\\s+\\d{{4}})\"\n",
    "    Stmt_date_re = re.compile(pattern2)\n",
    "\n",
    "    # Keyword input for Customer\n",
    "    keyword3 = input(\"Enter the keyword before the Customer name (no colon) \")\n",
    "    pattern3 = rf\"{keyword3}:\\s+(?P<id>\\d{{6}} - \\d{{5}})\"\n",
    "    cust_no_re = re.compile(pattern3)\n",
    "    # Keyword input for Grand Total\n",
    "    keyword4 = input(\"Enter the keyword before the Grand Total (no colon) \")\n",
    "    pattern4 = rf\"(?<={keyword4}:)\\s+\\$\\s*(?P<amount>[\\d,]+\\.\\d{{2}})\"\n",
    "    grand_total_re = re.compile(pattern4)\n",
    "\n",
    "    #Keyword Input for Tax\n",
    "    keyword5 = input(\"Enter the keyword before the Tax (no colon) \")\n",
    "    pattern5 = rf\"{keyword5}+\\s*\\$?\\s*(?P<amount>[\\d,]+\\.\\d{{2}})\"\n",
    "    Tax_re = re.compile(pattern5)\n",
    "\n",
    "    #inv_line_re= re.compile(r\"Invoice / Facture:\\s+?(\\w{6})\")\n",
    "    #Stmt_date_re = re.compile(r\"Date:\\s+(?P<date>\\w+\\s+\\d{2},\\s+\\d{4})\") \n",
    "    #cust_no_re = re.compile(r\"Customer / Client:\\s+(?P<id>\\d{6} - \\d{5})\") \n",
    "    #grand_total_re= re.compile (r\"(?<=Montant de facture:)\\s+\\$\\s*(?P<amount>[\\d,]+\\.\\d{2})\")\n",
    "    #Tax_re = re.compile(r\"GST 5.0000 %+\\s*\\$?\\s*(?P<amount>[\\d,]+\\.\\d{2})\")\n",
    "\n",
    "    line_items = []\n",
    "    inv_read = namedtuple('inv','Inv_no, Date, Customer, Grand_total, Tax, File_name')\n",
    "\n",
    "    for invoice in import_list: \n",
    "    # Open the PDF document\n",
    "        File_name = invoice\n",
    "        pages = pdfplumber.open(invoice).pages\n",
    "\n",
    "        # Initialize an empty list to store all lines\n",
    "        all_lines = []\n",
    "\n",
    "        # Iterate through each page\n",
    "        for page in pages:\n",
    "            # Extract the text from the current page\n",
    "            page_text = page.extract_text()\n",
    "\n",
    "            # Split the text into lines\n",
    "            lines = page_text.splitlines()\n",
    "\n",
    "            # Add each line to the `all_lines` list\n",
    "            all_lines.extend(lines)\n",
    "\n",
    "        # Combine all lines into a single string\n",
    "        text_for_search = \"\\n\".join(all_lines)\n",
    "\n",
    "        # Now you can use `text_for_search` for your text search operations\n",
    "\n",
    "        #print(f\"Total lines extracted: {len(all_lines)}\")\n",
    "        #print(f\"Example line: {text_for_search[:100]}\")  # Print the first 100 characters as an example\n",
    "\n",
    "        inv_no = find_match(text_for_search, inv_line_re)\n",
    "        stmt_date = find_match(text_for_search, Stmt_date_re)\n",
    "        customer =  find_match(text_for_search, cust_no_re)\n",
    "        subtotal = find_match(text_for_search, subtotal_re)\n",
    "        grand_total = find_match(text_for_search, grand_total_re)\n",
    "        Tax = find_match(text_for_search, Tax_re)\n",
    "\n",
    "        line_items.append(inv_read(inv_no, stmt_date, customer, grand_total, Tax, File_name))\n",
    "\n",
    "    #line_items = []\n",
    "    df = pd.DataFrame(line_items)  \n",
    "    export_folder_path()\n",
    "    df.to_csv(datetime.date.today().strftime(\"%Y%m%d\")+'_invoice_export.csv')\n",
    "    return print(f\"Invoice data exported to {datetime.date.today().strftime('%Y%m%d')+'_invoice_export.csv'}\")"
   ]
  },
  {
   "cell_type": "code",
   "execution_count": null,
   "metadata": {},
   "outputs": [],
   "source": [
    "if __name__ == '__main__':\n",
    "    import_list = get_folder_path()\n",
    "    main(import_list)"
   ]
  }
 ],
 "metadata": {
  "kernelspec": {
   "display_name": "Python 3",
   "language": "python",
   "name": "python3"
  },
  "language_info": {
   "codemirror_mode": {
    "name": "ipython",
    "version": 3
   },
   "file_extension": ".py",
   "mimetype": "text/x-python",
   "name": "python",
   "nbconvert_exporter": "python",
   "pygments_lexer": "ipython3",
   "version": "3.12.0"
  }
 },
 "nbformat": 4,
 "nbformat_minor": 4
}
